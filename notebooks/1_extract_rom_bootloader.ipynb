{
 "cells": [
  {
   "cell_type": "markdown",
   "metadata": {},
   "source": [
    "## The ROM bootloader\n",
    "\n",
    "The ROM bootloader is included during manufacturing of the integrated circuit, and it will be identical for all CC2640R2F chips that belong to the same hardware revision.\n",
    "\n",
    "The ROM bootloader is the first piece of code that will be executed when the device is powered-on or reset. \n",
    "This ROM bootloader will prepare the device such that the main application code can be executed. The ROM bootloader will also enable or disable the JTAG peripheral according to the settings stored in FLASH memory. Additionally, the bootloader hosts a Serial Bootloader Interface that allows us to perform basic actions such as reading/writing memory through a serial interface. \n",
    "\n",
    "In this notebook we will provide a basic example that allows to interact with the serial bootloader interface. We will use this example to dump the ROM bootloader, allowing us to analyse the code in Ghidra.\n",
    "\n",
    "For a full description of the ROM bootloader serial interface we refer to the [CC2538/CC26x0/CC26x2 Serial Bootloader Interface application report](https://www.ti.com/lit/an/swra466d/swra466d.pdf) and the [CC13x0, CC26x0 SimpleLink Wireless MCU Technical Reference Manual](https://www.ti.com/lit/ug/swcu117i/swcu117i.pdf).\n",
    "\n",
    "This application report includes the following boot flowchart. As you can see we can reach the \"Enter ROM bootloader (Serves commands if BL enabled)\" box by making sure that the FLASH image valid parameter stored in the Customer Configuration (CCFG) is cleared. The most straightforward way to achieve this is to simply erase microcontroller's flash memory.\n",
    "\n",
    "You can run this notebook with an unmodified LAUNCHXL-CC2640R2 development board. \n",
    "\n",
    "![Boot flowchart](img/boot_flowchart.png)"
   ]
  },
  {
   "cell_type": "code",
   "execution_count": 1,
   "metadata": {},
   "outputs": [],
   "source": [
    "# Modify the dslite_path variable to point to your installation of Uniflash\n",
    "\n",
    "import subprocess\n",
    "from pathlib import Path\n",
    "\n",
    "home_dir = str(Path.home()) \n",
    "dslite_path = home_dir + '/ti/uniflash_7.0.0/dslite.sh'\n",
    "erase_cmd = dslite_path + ' --mode cc13xx-cc26xx-mass-erase -d XDS110'"
   ]
  },
  {
   "cell_type": "code",
   "execution_count": 2,
   "metadata": {},
   "outputs": [
    {
     "name": "stdout",
     "output_type": "stream",
     "text": [
      "Executing the following command:\n",
      "> /home/lennert/ti/uniflash_7.0.0/deskdb/content/TICloudAgent/linux/ccs_base/DebugServer/bin/DSLite cc13xx-cc26xx-mass-erase -d XDS110\n",
      "\n",
      "For more details and examples, please refer to the UniFlash Quick Start guide.\n",
      "\n",
      "Performing Device Unlock via Mass Erase...\n",
      "Device Unlocked\n",
      "\n"
     ]
    }
   ],
   "source": [
    "# !!! Executing this cell will erase the flash memory (and thus firmware) of your microcontroller !!!\n",
    "# If you have a copy of the firmware currently on the device you can simply program it back later\n",
    "\n",
    "process = subprocess.Popen(erase_cmd.split(' '), stdout=subprocess.PIPE, stderr=subprocess.PIPE)\n",
    "output = process.communicate()\n",
    "\n",
    "if b'Device Unlocked' not in output[0]:\n",
    "    print('There was an error while trying to erase the microcontroller')\n",
    "    print(output)\n",
    "else:\n",
    "    print(output[0].decode('utf-8'))"
   ]
  },
  {
   "cell_type": "code",
   "execution_count": 3,
   "metadata": {},
   "outputs": [],
   "source": [
    "import serial\n",
    "import time\n",
    "from tqdm.notebook import tqdm\n",
    "\n",
    "class SerialBootloaderInterface:\n",
    "    \n",
    "    def __init__(self, port='/dev/ttyACM0'):\n",
    "        self.ACK = bytes([0x00, 0xcc])\n",
    "        self.NACK = bytes([0x00, 0x33])\n",
    "        self.status_val = {\n",
    "            'COMMAND_RET_SUCCESS': 0x40,\n",
    "            'COMMAND_RET_UNKNOWN_CMD': 0x41,\n",
    "            'COMMAND_RET_INVALID_CMD': 0x42,\n",
    "            'COMMAND_RET_INVALID_ADR': 0x43,\n",
    "            'COMMAND_RET_FLASH_FAIL': 0x44\n",
    "        } \n",
    "        \n",
    "        self.ser = serial.Serial(port, 115200)\n",
    "        self.ser.write(bytes([0x55, 0x55]))\n",
    "        time.sleep(0.1)\n",
    "        ret = self.ser.read(self.ser.in_waiting)\n",
    "        \n",
    "        if ret != self.ACK:\n",
    "            raise ValueError('Expected the bootloader to reply with 00CC, instead it replied with: ' + ret.hex())\n",
    "        else:\n",
    "            print('Connected to the Serial Bootloader Interface!')\n",
    "            print('Chip identifier:', self.get_chip_id().hex())\n",
    "        \n",
    "        \n",
    "    def get_chip_id(self):\n",
    "        self.ser.flushInput()\n",
    "        self.ser.write(bytes([0x03, 0x28, 0x28]))\n",
    "        time.sleep(0.1)\n",
    "        resp = self.ser.read(self.ser.in_waiting)\n",
    "        self.ser.write(bytes([0xcc]))\n",
    "        return resp\n",
    "    \n",
    "    \n",
    "    def ping(self):\n",
    "        self.ser.flushInput()\n",
    "        self.ser.write(bytes([0x03, 0x20, 0x20]))\n",
    "        time.sleep(0.1)\n",
    "        ret = self.ser.read(self.ser.in_waiting)\n",
    "        assert ret == self.ACK, 'Ping command was not acknowledged by device'\n",
    "        return ret\n",
    "    \n",
    "    \n",
    "    def get_status(self):\n",
    "        self.ser.flushInput()\n",
    "        self.ser.write(bytes([0x03, 0x23, 0x23]))\n",
    "        time.sleep(0.1)\n",
    "        resp = self.ser.read(self.ser.in_waiting)\n",
    "        self.ser.write(bytes([0xcc])) \n",
    "        return list(resp)[-1]\n",
    "    \n",
    "    \n",
    "    def read_memory_block(self, addr, no_of_access=253):\n",
    "        size = 9\n",
    "        cmd = 0x2A\n",
    "        access_type = 0x0\n",
    "        \n",
    "        payload = bytearray([cmd])\n",
    "        payload += bytearray(addr.to_bytes(4, byteorder='big'))\n",
    "        payload += bytearray([access_type, no_of_access])\n",
    "\n",
    "        chk = 0\n",
    "        for b in payload:\n",
    "            chk += b\n",
    "        chk = chk & 0xff\n",
    "\n",
    "        packet = bytearray([size, chk]) + payload\n",
    "\n",
    "        self.ser.flushInput()\n",
    "        self.ser.write(packet)\n",
    "        time.sleep(0.1)\n",
    "        resp = self.ser.read(self.ser.in_waiting)\n",
    "        self.ser.write([0x00, 0xcc])\n",
    "\n",
    "        ind = resp.find(0xcc, 0) + 3 \n",
    "        resp = resp[ind:ind+no_of_access]\n",
    "        \n",
    "        status = self.get_status()\n",
    "        if status != self.status_val['COMMAND_RET_SUCCESS']:\n",
    "            raise ValueError('ERROR! status:' + \n",
    "                             list(self.status_val.keys())[list(self.status_val.values()).index(status)])\n",
    "        \n",
    "        assert len(resp) == no_of_access, \"Did not receive all bytes...\"\n",
    "        return resp\n",
    "        \n",
    "        \n",
    "    def read_memory_region(self, addr_start, addr_stop):\n",
    "        blocks = (addr_stop-addr_start)//253\n",
    "        data = bytearray()\n",
    "\n",
    "        print('Reading', blocks, 'blocks of data starting from address', hex(addr_start))\n",
    "        for i in tqdm(range(blocks)):\n",
    "            block = self.read_memory_block(addr_start, no_of_access=253)\n",
    "            data += block\n",
    "            addr_start += 253\n",
    "\n",
    "        print('reading final block of size', addr_stop-addr_start)\n",
    "        block = self.read_memory_block(addr_start, addr_stop-addr_start)\n",
    "        data += block\n",
    "        return data"
   ]
  },
  {
   "cell_type": "code",
   "execution_count": 5,
   "metadata": {},
   "outputs": [
    {
     "name": "stdout",
     "output_type": "stream",
     "text": [
      "Connected to the Serial Bootloader Interface!\n",
      "Chip identifier: 00cc0642b0029000\n"
     ]
    }
   ],
   "source": [
    "# You might have to reset the microcontroller before executing this cell\n",
    "# You can do this using the reset button on the development board\n",
    "# Make sure to change the serial port if needed\n",
    "\n",
    "sbi = SerialBootloaderInterface(port='/dev/ttyACM0')\n",
    "ret = sbi.ping()"
   ]
  },
  {
   "cell_type": "markdown",
   "metadata": {},
   "source": [
    "The following memory map is part of the [documentation](https://software-dl.ti.com/lprf/simplelink_cc2640r2_latest/docs/blestack/ble_user_guide/html/cc2640/memory_management.html) provided by Texas Instruments. From this memory map it is clear that the ROM region (in orange) starts at address 0x10000000 and is 0x1CC00 bytes in size.\n",
    "\n",
    "By executing the next cell we will use the ROM bootloader's serial interface to read out the ROM memory region!\n",
    "\n",
    "![Boot flowchart](img/cc2640_mem_map.png)"
   ]
  },
  {
   "cell_type": "code",
   "execution_count": 6,
   "metadata": {},
   "outputs": [
    {
     "name": "stdout",
     "output_type": "stream",
     "text": [
      "Reading 465 blocks of data starting from address 0x10000000\n"
     ]
    },
    {
     "data": {
      "application/vnd.jupyter.widget-view+json": {
       "model_id": "e0035d4d0d594945b3cc83a904a281d0",
       "version_major": 2,
       "version_minor": 0
      },
      "text/plain": [
       "  0%|          | 0/465 [00:00<?, ?it/s]"
      ]
     },
     "metadata": {},
     "output_type": "display_data"
    },
    {
     "name": "stdout",
     "output_type": "stream",
     "text": [
      "reading final block of size 115\n"
     ]
    }
   ],
   "source": [
    "data = sbi.read_memory_region(addr_start=0x10000000, addr_stop=0x1001cc00)\n",
    "\n",
    "with open('rom_bootloader_cc2640r2.bin', 'wb') as f: # Destination of our ROM dump\n",
    "    f.write(data)"
   ]
  },
  {
   "cell_type": "code",
   "execution_count": 7,
   "metadata": {},
   "outputs": [
    {
     "name": "stdout",
     "output_type": "stream",
     "text": [
      "(c) Copyright 2005-2015 Texas Instruments Incorporated.  All rights reserved.\r\n",
      "Fxdc.runtime.Startup: 'maxPasses' exceeded\r\n",
      "Fxdc.runtime.Error.raise: terminating execution\r\n"
     ]
    }
   ],
   "source": [
    "!strings -n 15 rom_bootloader_cc2640r2.bin"
   ]
  },
  {
   "cell_type": "markdown",
   "metadata": {},
   "source": [
    "Great! We have now obtained a copy of the ROM bootloader, we can analyse this bootloader in Ghidra to understand in more detail how JTAG is being disabled/enabled. Additionally one could try to identify vulnerabilities in the handling of serial commands and check if there are any undocumented commands!\n",
    "\n",
    "The README file in the repository contains some basic instructions on how to start analysing the ROM bootloader in Ghidra."
   ]
  },
  {
   "cell_type": "code",
   "execution_count": null,
   "metadata": {},
   "outputs": [],
   "source": []
  },
  {
   "cell_type": "markdown",
   "metadata": {},
   "source": [
    "## Dumping the CC2652R1F bootloader\n",
    "\n",
    "Similarly, the following cells can be used to dump the ROM bootloader of a CC2652R1F. We can reuse the serial bootloader interface code from before, but we do change the address range to be dumped according to the [memory map](https://software-dl.ti.com/lprf/simplelink_cc26x2_latest/docs/ble5stack/ble_user_guide/html/ble-stack-5.x/memory_management.html)."
   ]
  },
  {
   "cell_type": "code",
   "execution_count": 8,
   "metadata": {},
   "outputs": [
    {
     "name": "stdout",
     "output_type": "stream",
     "text": [
      "Executing the following command:\n",
      "> /home/lennert/ti/uniflash_7.0.0/deskdb/content/TICloudAgent/linux/ccs_base/DebugServer/bin/DSLite cc13xx-cc26xx-mass-erase -d XDS110\n",
      "\n",
      "For more details and examples, please refer to the UniFlash Quick Start guide.\n",
      "\n",
      "Performing Device Unlock via Mass Erase...\n",
      "Device Unlocked\n",
      "\n"
     ]
    }
   ],
   "source": [
    "# !!! Executing this cell will erase the flash memory (and thus firmware) of your microcontroller !!!\n",
    "# If you have a copy of the firmware currently on the device you can simply program it back later\n",
    "\n",
    "process = subprocess.Popen(erase_cmd.split(' '), stdout=subprocess.PIPE, stderr=subprocess.PIPE)\n",
    "output = process.communicate()\n",
    "\n",
    "if b'Device Unlocked' not in output[0]:\n",
    "    print('There was an error while trying to erase the microcontroller')\n",
    "    print(output)\n",
    "else:\n",
    "    print(output[0].decode('utf-8'))"
   ]
  },
  {
   "cell_type": "code",
   "execution_count": 11,
   "metadata": {},
   "outputs": [
    {
     "name": "stdout",
     "output_type": "stream",
     "text": [
      "Connected to the Serial Bootloader Interface!\n",
      "Chip identifier: 00cc06223002f000\n"
     ]
    }
   ],
   "source": [
    "# You might have to reset the microcontroller before executing this cell\n",
    "\n",
    "sbi = SerialBootloaderInterface(port='/dev/ttyACM1')\n",
    "ret = sbi.ping()"
   ]
  },
  {
   "cell_type": "code",
   "execution_count": 12,
   "metadata": {},
   "outputs": [
    {
     "name": "stdout",
     "output_type": "stream",
     "text": [
      "Reading 1036 blocks of data starting from address 0x10000000\n"
     ]
    },
    {
     "data": {
      "application/vnd.jupyter.widget-view+json": {
       "model_id": "71259402c3ff4177a897828e340f23c9",
       "version_major": 2,
       "version_minor": 0
      },
      "text/plain": [
       "  0%|          | 0/1036 [00:00<?, ?it/s]"
      ]
     },
     "metadata": {},
     "output_type": "display_data"
    },
    {
     "name": "stdout",
     "output_type": "stream",
     "text": [
      "reading final block of size 36\n"
     ]
    }
   ],
   "source": [
    "data = sbi.read_memory_region(addr_start=0x10000000, addr_stop=0x10000000 + 0x40000)\n",
    "\n",
    "with open('rom_bootloader_cc2652r1.bin', 'wb') as f: # Destination of our ROM dump\n",
    "    f.write(data)"
   ]
  },
  {
   "cell_type": "code",
   "execution_count": 13,
   "metadata": {},
   "outputs": [
    {
     "name": "stdout",
     "output_type": "stream",
     "text": [
      "(c) Copyright 2005-2015 Texas Instruments Incorporated.  All rights reserved.\r\n",
      "*2-'SEL9>S\r\n",
      "0BTpG 0BTpG\r\n",
      "h^j@GPm|_}\r\n",
      "hy qhx`p(F\r\n",
      "G0x(r!Fpxhr\r\n",
      " Bogus Exception return value: %08x.\r\n",
      "Exception occurred in background thread at PC = 0x%08x.\r\n",
      "Exception occurred in ISR thread at PC = 0x%08x.\r\n",
      "FCore %d: Exception occurred in ThreadType_%s.\r\n",
      "%s name: %s, handle: 0x%x.\r\n",
      "%s stack base: 0x%x.\r\n",
      "F%s stack size: 0x%x.\r\n",
      "FR0 = 0x%08x  R8  = 0x%08x\r\n",
      "R1 = 0x%08x  R9  = 0x%08x\r\n",
      "R2 = 0x%08x  R10 = 0x%08x\r\n",
      "R3 = 0x%08x  R11 = 0x%08x\r\n",
      "R4 = 0x%08x  R12 = 0x%08x\r\n",
      "R5 = 0x%08x  SP(R13) = 0x%08x\r\n",
      "R6 = 0x%08x  LR(R14) = 0x%08x\r\n",
      "R7 = 0x%08x  PC(R15) = 0x%08x\r\n",
      "PSR = 0x%08x\r\n",
      "FICSR = 0x%08x\r\n",
      "MMFSR = 0x%02x\r\n",
      "BFSR = 0x%02x\r\n",
      "UFSR = 0x%04x\r\n",
      "HFSR = 0x%08x\r\n",
      "DFSR = 0x%08x\r\n",
      "MMAR = 0x%08x\r\n",
      "BFAR = 0x%08x\r\n",
      "AFSR = 0x%08x\r\n",
      "IBUSERR: Instruction Access Violation\r\n",
      "FPRECISERR: Immediate Bus Fault, exact addr known\r\n",
      "IMPRECISERR: Delayed Bus Fault, exact addr unknown\r\n",
      "UNSTKERR: Bus Fault caused by Stack Pop\r\n",
      "STKERR: Bus Fault caused by Stack Push\r\n",
      "FUNALIGNED: Unaligned memory access\r\n",
      "NOCP: Attempting to use co-processor\r\n",
      "INVPC: Invalid PC\r\n",
      "FINVSTATE: Invalid EPSR and instruction combination\r\n",
      "UNDEFINSTR: Undefined instruction\r\n",
      "IACCVIOL: Instruction Access Violation\r\n",
      "DACCVIOL: Data Access Violation (RD/WR failed)\r\n",
      "MUNSTKERR: Unstacking Error (RD/WR failed), Stack Pop\r\n",
      "FMSTKERR: Stacking Error (RD/WR failed), Stack Push\r\n",
      "FTerminating execution...\r\n",
      "Exception #:\r\n",
      "xdc.runtime.Startup: 'maxPasses' exceeded\r\n",
      "F{module#%d}\r\n",
      "{module-rope:%x}\r\n",
      "ih9`ihIhy`ihIh\r\n",
      "JQh\tl\th\t}5)\r\n",
      "G:F(hCi!F0F\r\n",
      "WF(hCi1F!\"@F\r\n",
      "Gqh,iIh:y\tx\r\n",
      "&>p h~pCiij*\r\n",
      "`(h<0Ah\thO~7\r\n",
      "F5 @L(u hCi\r\n"
     ]
    }
   ],
   "source": [
    "!strings -n 10 rom_bootloader_cc2652r1.bin"
   ]
  },
  {
   "cell_type": "code",
   "execution_count": null,
   "metadata": {},
   "outputs": [],
   "source": []
  }
 ],
 "metadata": {
  "kernelspec": {
   "display_name": "Python 3",
   "language": "python",
   "name": "python3"
  },
  "language_info": {
   "codemirror_mode": {
    "name": "ipython",
    "version": 3
   },
   "file_extension": ".py",
   "mimetype": "text/x-python",
   "name": "python",
   "nbconvert_exporter": "python",
   "pygments_lexer": "ipython3",
   "version": "3.6.9"
  }
 },
 "nbformat": 4,
 "nbformat_minor": 2
}

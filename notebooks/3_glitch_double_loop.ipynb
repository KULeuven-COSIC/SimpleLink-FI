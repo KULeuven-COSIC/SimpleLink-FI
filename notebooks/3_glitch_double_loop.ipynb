{
 "cells": [
  {
   "cell_type": "markdown",
   "metadata": {},
   "source": [
    "# Glitching a simple double loop\n",
    "\n",
    "In this notebook we target a dummy program (a double loop) using voltage glitching. The goal is to determine how suseptible our target is to voltage glitching. We also use this target to determine a range of glitch widths that result in faulty outputs. \n",
    "\n",
    "The following code snippet shows the code we are tying to glitch.\n",
    "\n",
    "```C\n",
    "void double_loop()\n",
    "{\n",
    "    char input;\n",
    "    volatile int i, j, cnt;\n",
    "\n",
    "    while (1)\n",
    "    {\n",
    "        UART_read(uart, &input, 1);\n",
    "        if (input == 0xAA)\n",
    "        {\n",
    "            cnt = 0;\n",
    "            GPIO_write(Board_GPIO_LED0, 1); // Set trigger high\n",
    "            for (i = 0; i < 100; i++)\n",
    "            {\n",
    "                for (j = 0; j < 100; j++)\n",
    "                {\n",
    "                    cnt++;\n",
    "                }\n",
    "            }\n",
    "            GPIO_write(Board_GPIO_LED0, 0); // Set trigger low\n",
    "            UART_write(uart, &cnt, 4);\n",
    "        }\n",
    "    }\n",
    "}\n",
    "```\n",
    "\n",
    "## Hardware Setup\n",
    "To run this notebook you will need the hardware outlined in the main README of the repository. You will also need to modify your target for voltage glitching, at a minimum this requires removing C19 and connecting the ChipWhisperer glitch port to the DCOUPL pin. All instructions for modifying the targets are provided in the main README.\n",
    "\n",
    "Make sure to connect your ChipWhisperer to the modified LAUNCHXL-CC2640R2 board before running the notebook.\n",
    "* Connect the target SMA connector to your ChipWhisperer's Glitch/Crowbar port\n",
    "* Remove the 3V3 jumper and connect the target side pin to the ChipWhisperer's 3V3 output\n",
    "* Remove the RESET jumper and connect the target side to the ChipWhisperer's NRST output\n",
    "* Connect the ChipWhisperer's IO4/TRG to the target's DIO6 pin\n",
    "* Connect the ChipWhisperer's ground to a ground pin on the target board"
   ]
  },
  {
   "cell_type": "markdown",
   "metadata": {},
   "source": [
    "## Preparation\n",
    "\n",
    "The following cells load the required libraries and initialise the ChipWhisperer as well as our target."
   ]
  },
  {
   "cell_type": "code",
   "execution_count": 1,
   "metadata": {},
   "outputs": [
    {
     "name": "stderr",
     "output_type": "stream",
     "text": [
      "WARNING:ChipWhisperer Other:Could not check ChipWhisperer version, error __init__() got an unexpected keyword argument 'capture_output'\n"
     ]
    }
   ],
   "source": [
    "import sys\n",
    "import time\n",
    "import os\n",
    "import numpy as np\n",
    "import chipwhisperer as cw\n",
    "from tqdm.notebook import tqdm\n",
    "import serial\n",
    "import matplotlib.pyplot as plt\n",
    "\n",
    "ser = 0"
   ]
  },
  {
   "cell_type": "code",
   "execution_count": 2,
   "metadata": {},
   "outputs": [],
   "source": [
    "# Connect to the ChipWhisperer and perform some basic initialization\n",
    "\n",
    "scope = cw.scope()\n",
    "\n",
    "scope.clock.clkgen_src = 'system' \n",
    "scope.clock.clkgen_freq = 200e6          # Main ChipWhisperer clock\n",
    "scope.clock.adc_mul = 0\n",
    "scope.trigger.triggers = 'tio4'          # Trigger on a rising edge of TIO4 (connected to DIO6)\n",
    "scope.adc.basic_mode = 'rising_edge'\n",
    "scope.io.target_pwr = True\n",
    "\n",
    "scope.glitch.enabled = True\n",
    "scope.glitch.clk_src = 'pll'\n",
    "#scope.clock.pll.update_fpga_vco(600e6)\n",
    "scope.glitch.output = 'enable_only'\n",
    "scope.glitch.trigger_src = 'ext_single'\n",
    "scope.io.glitch_lp = True                # only using the 'low power' glitch mosfet\n",
    "scope.io.glitch_hp = False\n",
    "scope.glitch.repeat = 15                 # Glitch repeat (or glitch width) in cycles of the main CW clock.\n",
    "scope.glitch.ext_offset = 300            # Glitch offset from the external trigger (in cycles of the main CW clock)"
   ]
  },
  {
   "cell_type": "code",
   "execution_count": 3,
   "metadata": {},
   "outputs": [],
   "source": [
    "# Connect to the LAUNCHXL-CC2640R2 UART\n",
    "# You may have to change the serial port ('/dev/ttyACM1')\n",
    "\n",
    "if ser:\n",
    "    ser.close()\n",
    "\n",
    "ser = serial.Serial('/dev/ttyACM1', 115200)"
   ]
  },
  {
   "cell_type": "code",
   "execution_count": 4,
   "metadata": {},
   "outputs": [
    {
     "name": "stdout",
     "output_type": "stream",
     "text": [
      "Target has been flashed!\n"
     ]
    }
   ],
   "source": [
    "# Modify the dslite_path variable to point to your installation of Uniflash\n",
    "# Running this cell will load the example target firmware\n",
    "# THIS WILL OVERWRITE THE FIRMWARE ON YOUR LAUNCHXL-CC2640R2\n",
    "\n",
    "import subprocess\n",
    "from pathlib import Path\n",
    "\n",
    "home_dir = str(Path.home()) \n",
    "dslite_path = home_dir + '/ti/uniflash_7.0.0/dslite.sh'\n",
    "erase_cmd = dslite_path + ' --mode cc13xx-cc26xx-mass-erase -d XDS110'\n",
    "flash_cmd = dslite_path + ' --config ./bin/CC2640R2F.ccxml --flash ./bin/VFI_SCA_CC2640R2.out' \n",
    "\n",
    "process = subprocess.Popen(erase_cmd.split(' '), stdout=subprocess.PIPE, stderr=subprocess.PIPE)\n",
    "output = process.communicate()\n",
    "\n",
    "if b'Device Unlocked' not in output[0]:\n",
    "    print('There was an error while trying to erase the microcontroller')\n",
    "    print(output)\n",
    "else:\n",
    "    scope.io.nrst = 'low'\n",
    "    scope.io.target_pwr = False\n",
    "    time.sleep(0.1)\n",
    "    scope.io.target_pwr = True\n",
    "    scope.io.nrst = 'high'\n",
    "    \n",
    "    process = subprocess.Popen(flash_cmd.split(' '), stdout=subprocess.PIPE, stderr=subprocess.PIPE)\n",
    "    output = process.communicate()\n",
    "    if b'Board Reset Complete' in output[0]:\n",
    "        print('Target has been flashed!')\n",
    "    else:\n",
    "        print('Error flashing target. Check your connections and try again.')"
   ]
  },
  {
   "cell_type": "code",
   "execution_count": 5,
   "metadata": {},
   "outputs": [],
   "source": [
    "# Simple function to reset the target microcontroller\n",
    "def reset_dut(delay=0.1):\n",
    "    scope.io.nrst = 'low'\n",
    "    scope.io.target_pwr = False\n",
    "    time.sleep(delay)\n",
    "    scope.io.target_pwr = True\n",
    "    scope.io.nrst = 'high'\n",
    "    time.sleep(0.05)\n",
    "    ser.flushInput()\n",
    "    ser.write(b'd') # To select the double loop function of the firmware\n",
    "    \n",
    "\n",
    "# A more thorough reset function that verifies that the target is alive again\n",
    "def thorough_reset_dut(delay=0.05): \n",
    "    reset_dut(delay)\n",
    "    \n",
    "    ser.flushInput()\n",
    "    ser.write(bytes([0xAA]))\n",
    "    time.sleep(0.05)\n",
    "    ret = ser.read(ser.in_waiting)\n",
    "        \n",
    "    while int.from_bytes(ret, 'little') != 10000:\n",
    "        delay += 0.5\n",
    "        reset_dut(delay)\n",
    "        ser.write(bytes([0xAA]))\n",
    "        time.sleep(0.05)\n",
    "        ret = ser.read(ser.in_waiting)"
   ]
  },
  {
   "cell_type": "code",
   "execution_count": 6,
   "metadata": {},
   "outputs": [
    {
     "name": "stdout",
     "output_type": "stream",
     "text": [
      "All set to start glitching!\n"
     ]
    }
   ],
   "source": [
    "# Make sure the target is performing the double loop function\n",
    "\n",
    "reset_dut(1)\n",
    "ser.write(bytes([0xAA]))\n",
    "time.sleep(0.05)\n",
    "ret = ser.read(ser.in_waiting)\n",
    "cnt = int.from_bytes(ret, 'little')\n",
    "\n",
    "if cnt != 10000:\n",
    "    print('The output received from the target is not correct..')\n",
    "    print(ret, cnt)\n",
    "else:\n",
    "    print('All set to start glitching!')"
   ]
  },
  {
   "cell_type": "markdown",
   "metadata": {},
   "source": [
    "## A basic glitching experiment\n",
    "\n",
    "The following cell uses a fixed glitch width (`scope.glitch.repeat`) and iterates over a range of offsets starting from the trigger signal. At each offset we try to inject 5 glitches.\n",
    "\n",
    "We assume the target crashed if it does not return any output. We successfully injected a glitch if the target replies with a counter value that is not equal to 10000, those values will be printed. In both cases we reset the target device.\n",
    "\n",
    "This cell should take roughly 50 seconds to complete and should produce at least a few faulty counter outputs!\n",
    "Feel free to play around with the parameters (`scope.glitch.repeat`, `offsets`, `repeats`).\n",
    "If you are not getting any faulted outputs and 0% crashes you might want to try and increase the `scope.glitch.repeat` value. Similarly, if you get 100% crashes you can try lowering this value."
   ]
  },
  {
   "cell_type": "code",
   "execution_count": 7,
   "metadata": {},
   "outputs": [
    {
     "data": {
      "application/vnd.jupyter.widget-view+json": {
       "model_id": "6c316948bc0a477db655dbbc93edc053",
       "version_major": 2,
       "version_minor": 0
      },
      "text/plain": [
       "  0%|          | 0/100 [00:00<?, ?it/s]"
      ]
     },
     "metadata": {},
     "output_type": "display_data"
    },
    {
     "name": "stdout",
     "output_type": "stream",
     "text": [
      "Fault?! 10001 11270000\n",
      "Fault?! 10002 12270000\n",
      "Fault?! 10002 12270000\n",
      "Fault?! 9899 ab260000\n",
      "Fault?! 9999 0f270000\n",
      "Fault?! 10001 11270000\n",
      "Fault?! 9911 b7260000\n",
      "Fault?! 8899 c3220000\n",
      "Fault?! 9999 0f270000\n",
      "Fault?! 9999 0f270000\n",
      "Fault?! 9911 b7260000\n",
      "Fault?! 9901 ad260000\n",
      "Fault?! 9999 0f270000\n",
      "Fault?! 9914 ba260000\n",
      "Fault?! 9915 bb260000\n",
      "Fault?! 10001 11270000\n",
      "Fault?! 9885 9d260000\n",
      "Fault?! 30231 17760000\n",
      "Fault?! 9918 be260000\n",
      "Fault?! 10001 11270000\n",
      "Fault?! 10018 22270000\n",
      "Fault?! 10018 22270000\n",
      "Fault?! 8318 7e200000\n",
      "Fault?! 10063 4f270000\n",
      "Fault?! 9909 b5260000\n",
      "Fault?! 9921 c1260000\n",
      "Fault?! 9921 c1260000\n",
      "Fault?! 9924 c4260000\n",
      "Fault?! 7599 af1d0000\n",
      "Fault?! 9924 c4260000\n",
      "Fault?! 9926 c6260000\n",
      "Fault?! 10027 2b270000\n",
      "Fault?! 9927 c7260000\n",
      "Fault?! 10001 11270000\n",
      "\n",
      "Total # attempts: 500\n",
      "Total # faults: 34 (6.800000%)\n",
      "Total # crashes: 92 (18.400000%)\n"
     ]
    }
   ],
   "source": [
    "scope.glitch.repeat = 15\n",
    "offsets = np.arange(0, 2000, 20)\n",
    "repeats = 5\n",
    "\n",
    "crashes = 0\n",
    "faults = 0\n",
    "\n",
    "for offset in tqdm(range(len(offsets))):\n",
    "    scope.glitch.ext_offset = offsets[offset]\n",
    "    \n",
    "    for i in range(repeats):\n",
    "        scope.arm()\n",
    "        ser.write(bytes([0xAA]))\n",
    "        time.sleep(0.05)\n",
    "        ret = ser.read(ser.in_waiting)\n",
    "        \n",
    "        if ret != b\"\\x10'\\x00\\x00\":\n",
    "            if ret == b'':\n",
    "                crashes += 1\n",
    "            else:\n",
    "                faults += 1\n",
    "                print('Fault?!', int.from_bytes(ret, 'little'), ret.hex())\n",
    "            thorough_reset_dut() \n",
    "                \n",
    "total = len(offsets)*repeats\n",
    "print(\"\\nTotal # attempts:\", total) \n",
    "print(\"Total # faults: %d (%f%%)\" % (faults, (faults/total)*100))\n",
    "print(\"Total # crashes: %d (%f%%)\" % (crashes, (crashes/total)*100))"
   ]
  },
  {
   "cell_type": "markdown",
   "metadata": {},
   "source": [
    "## Determining a good glitch width\n",
    "\n",
    "The following cells perform a similar experiment to the previous one, but in this case we also iterate over multiple glitch widths and keep track of the number of faults and crashes per combination of glitch offset and glitch width. This allows to create a visual map (similar to Figure 3 in the paper)."
   ]
  },
  {
   "cell_type": "code",
   "execution_count": 8,
   "metadata": {},
   "outputs": [],
   "source": [
    "offsets = np.arange(0, 100, 4)\n",
    "widths = np.arange(10, 28, 1)\n",
    "repeats = 10\n",
    "\n",
    "#offsets = np.arange(0, 400, 4)\n",
    "#widths = np.arange(10, 28, 1)\n",
    "#repeats = 50\n",
    "\n",
    "crashes = np.zeros((len(offsets), len(widths)))\n",
    "faults = np.zeros((len(offsets), len(widths)))"
   ]
  },
  {
   "cell_type": "code",
   "execution_count": 11,
   "metadata": {
    "scrolled": true
   },
   "outputs": [
    {
     "data": {
      "application/vnd.jupyter.widget-view+json": {
       "model_id": "83434ad542bc489b916156d484f36809",
       "version_major": 2,
       "version_minor": 0
      },
      "text/plain": [
       "  0%|          | 0/25 [00:00<?, ?it/s]"
      ]
     },
     "metadata": {},
     "output_type": "display_data"
    },
    {
     "name": "stdout",
     "output_type": "stream",
     "text": [
      "1585152 003018\n",
      "Offset: 0, faults: 1, crashes: 119\n",
      "1581056 002018\n",
      "Offset: 4, faults: 1, crashes: 111\n",
      "532480 002008\n",
      "1585152 003018\n",
      "Offset: 8, faults: 2, crashes: 122\n",
      "Offset: 12, faults: 0, crashes: 109\n",
      "Offset: 16, faults: 0, crashes: 107\n",
      "Offset: 20, faults: 0, crashes: 105\n",
      "1585152 003018\n",
      "532480 002008\n",
      "1585152 003018\n",
      "536576 003008\n",
      "532480 002008\n",
      "Offset: 24, faults: 5, crashes: 105\n",
      "1585152 003018\n",
      "1585152 003018\n",
      "532480 002008\n",
      "Offset: 28, faults: 3, crashes: 110\n",
      "Offset: 32, faults: 0, crashes: 121\n",
      "9900 ac260000\n",
      "9900 ac260000\n",
      "1581056 002018\n",
      "Offset: 36, faults: 3, crashes: 98\n",
      "1342191276 ac360050\n",
      "1342191376 10370050\n",
      "9900 ac260000\n",
      "1342191376 10370050\n",
      "9900 ac260000\n",
      "532480 002008\n",
      "Offset: 40, faults: 6, crashes: 92\n",
      "9900 ac260000\n",
      "0 00000000\n",
      "9900 ac260000\n",
      "9900 ac260000\n",
      "0 00000000\n",
      "9900 ac260000\n",
      "9900 ac260000\n",
      "9900 ac260000\n",
      "9999 0f270000\n",
      "0 00000000\n",
      "0 00000000\n",
      "0 00000000\n",
      "0 00000000\n",
      "9900 ac260000\n",
      "9900 ac260000\n",
      "Offset: 44, faults: 15, crashes: 88\n",
      "0 00000000\n",
      "9901 ad260000\n",
      "9901 ad260000\n",
      "9900 ac260000\n",
      "9900 ac260000\n",
      "0 00000000\n",
      "0 00000000\n",
      "Offset: 48, faults: 7, crashes: 90\n",
      "9900 ac260000\n",
      "9900 ac260000\n",
      "9900 ac260000\n",
      "9900 ac260000\n",
      "9901 ad260000\n",
      "9900 ac260000\n",
      "9900 ac260000\n",
      "9900 ac260000\n",
      "9900 ac260000\n",
      "Offset: 52, faults: 9, crashes: 85\n",
      "9900 ac260000\n",
      "9900 ac260000\n",
      "9900 ac260000\n",
      "9901 ad260000\n",
      "9901 ad260000\n",
      "9901 ad260000\n",
      "9901 ad260000\n",
      "0 00000000\n",
      "Offset: 56, faults: 8, crashes: 93\n",
      "0 00000000\n",
      "0 00000000\n",
      "0 00000000\n",
      "0 00000000\n",
      "100 64000000\n",
      "0 00000000\n",
      "0 00000000\n",
      "0 00000000\n",
      "0 00000000\n",
      "0 00000000\n",
      "0 00000000\n",
      "Offset: 60, faults: 11, crashes: 96\n",
      "0 00000000\n",
      "0 00000000\n",
      "0 00000000\n",
      "0 00000000\n",
      "0 00000000\n",
      "0 00000000\n",
      "0 00000000\n",
      "0 00000000\n",
      "100 64000000\n",
      "0 00000000\n",
      "0 00000000\n",
      "9900 ac260000\n",
      "Offset: 64, faults: 12, crashes: 97\n",
      "0 00000000\n",
      "0 00000000\n",
      "0 00000000\n",
      "0 00000000\n",
      "9900 ac260000\n",
      "9900 ac260000\n",
      "9900 ac260000\n",
      "0 00000000\n",
      "100 64000000\n",
      "Offset: 68, faults: 9, crashes: 104\n",
      "0 00000000\n",
      "0 00000000\n",
      "0 00000000\n",
      "0 00000000\n",
      "0 00000000\n",
      "0 00000000\n",
      "0 00000000\n",
      "0 00000000\n",
      "0 00000000\n",
      "0 00000000\n",
      "Offset: 72, faults: 10, crashes: 110\n",
      "1342181376 00100050\n",
      "532480 002008\n",
      "1585152 003018\n",
      "1585152 003018\n",
      "1585152 003018\n",
      "Offset: 76, faults: 5, crashes: 91\n",
      "9999 0f270000\n",
      "9999 0f270000\n",
      "1585152 003018\n",
      "532480 002008\n",
      "1581056 002018\n",
      "532480 002008\n",
      "532480 002008\n",
      "1585152 003018\n",
      "1585152 003018\n",
      "532480 002008\n",
      "532480 002008\n",
      "Offset: 80, faults: 11, crashes: 89\n",
      "9999 0f270000\n",
      "9999 0f270000\n",
      "9999 0f270000\n",
      "9999 0f270000\n",
      "9999 0f270000\n",
      "9999 0f270000\n",
      "9999 0f270000\n",
      "9999 0f270000\n",
      "1585152 003018\n",
      "536576 003008\n",
      "1585152 003018\n",
      "Offset: 84, faults: 11, crashes: 93\n",
      "9900 ac260000\n",
      "9900 ac260000\n",
      "9999 0f270000\n",
      "Offset: 88, faults: 3, crashes: 105\n",
      "9999 0f270000\n",
      "9999 0f270000\n",
      "9900 ac260000\n",
      "9999 0f270000\n",
      "9999 0f270000\n",
      "10029 2d270000\n",
      "9900 ac260000\n",
      "9900 ac260000\n",
      "9900 ac260000\n",
      "9900 ac260000\n",
      "1585152 003018\n",
      "Offset: 92, faults: 11, crashes: 110\n",
      "9999 0f270000\n",
      "9999 0f270000\n",
      "99 63000000\n",
      "99 63000000\n",
      "0 00000000\n",
      "0 00000000\n",
      "0 00000000\n",
      "0 00000000\n",
      "0 00000000\n",
      "0 00000000\n",
      "0 00000000\n",
      "0 00000000\n",
      "0 00000000\n",
      "0 00000000\n",
      "0 00000000\n",
      "0 00000000\n",
      "0 00000000\n",
      "Offset: 96, faults: 17, crashes: 109\n",
      "The glitch width resuling in most fauly counter outputs is: 20\n"
     ]
    }
   ],
   "source": [
    "for offset in tqdm(range(len(offsets))):\n",
    "    for width in range(len(widths)):\n",
    "        scope.glitch.ext_offset = offsets[offset]\n",
    "        scope.glitch.repeat = widths[width]\n",
    "    \n",
    "        for i in range(repeats):\n",
    "            scope.arm()\n",
    "            ser.write(bytes([0xAA]))\n",
    "            time.sleep(0.05)\n",
    "            ret = ser.read(ser.in_waiting)\n",
    "            if ret != b\"\\x10'\\x00\\x00\":\n",
    "                if ret == b'':\n",
    "                    crashes[offset, width] += 1\n",
    "                    thorough_reset_dut()\n",
    "                else:\n",
    "                    faults[offset, width] += 1\n",
    "                    print(int.from_bytes(ret, 'little'), ret.hex())\n",
    "\n",
    "                thorough_reset_dut()\n",
    "                    \n",
    "                    \n",
    "    print('Offset: %d, faults: %d, crashes: %d' % (offsets[offset], np.sum(faults[offset,:]), np.sum(crashes[offset,:])))\n",
    "    \n",
    "print('The glitch width resuling in most fauly counter outputs is:', widths[np.argmax(np.sum(faults, axis=0))])"
   ]
  },
  {
   "cell_type": "code",
   "execution_count": 12,
   "metadata": {},
   "outputs": [
    {
     "data": {
      "image/png": "[encoded data removed]",
      "text/plain": [
       "<Figure size 576x576 with 2 Axes>"
      ]
     },
     "metadata": {
      "needs_background": "light"
     },
     "output_type": "display_data"
    }
   ],
   "source": [
    "fig = plt.figure(figsize=(8, 8))\n",
    "plt.title('Number of faults')\n",
    "plt.xlabel('Glitch offset')\n",
    "plt.ylabel('Glitch width')\n",
    "plt.imshow(faults.T, interpolation='none')\n",
    "plt.xticks(range(0,len(offsets)), offsets)\n",
    "plt.yticks(range(0,len(widths)), widths)\n",
    "plt.colorbar(orientation='horizontal')\n",
    "plt.show()"
   ]
  },
  {
   "cell_type": "code",
   "execution_count": 14,
   "metadata": {},
   "outputs": [
    {
     "data": {
      "image/png": "[encoded data removed]",
      "text/plain": [
       "<Figure size 576x576 with 2 Axes>"
      ]
     },
     "metadata": {
      "needs_background": "light"
     },
     "output_type": "display_data"
    }
   ],
   "source": [
    "fig = plt.figure(figsize=(8, 8))\n",
    "plt.title('Number of crashes')\n",
    "plt.xlabel('Glitch offset')\n",
    "plt.ylabel('Glitch width')\n",
    "plt.imshow(crashes.T, interpolation='none')\n",
    "plt.xticks(range(0,len(offsets)), offsets)\n",
    "plt.yticks(range(0,len(widths)), widths)\n",
    "plt.colorbar(orientation='horizontal')\n",
    "plt.show()"
   ]
  },
  {
   "cell_type": "code",
   "execution_count": 15,
   "metadata": {},
   "outputs": [
    {
     "data": {
      "text/plain": [
       "True"
      ]
     },
     "execution_count": 15,
     "metadata": {},
     "output_type": "execute_result"
    }
   ],
   "source": [
    "ser.close()\n",
    "scope.dis()"
   ]
  },
  {
   "cell_type": "code",
   "execution_count": null,
   "metadata": {},
   "outputs": [],
   "source": []
  }
 ],
 "metadata": {
  "kernelspec": {
   "display_name": "Python 3 (ipykernel)",
   "language": "python",
   "name": "python3"
  },
  "language_info": {
   "codemirror_mode": {
    "name": "ipython",
    "version": 3
   },
   "file_extension": ".py",
   "mimetype": "text/x-python",
   "name": "python",
   "nbconvert_exporter": "python",
   "pygments_lexer": "ipython3",
   "version": "3.10.1"
  }
 },
 "nbformat": 4,
 "nbformat_minor": 2
}

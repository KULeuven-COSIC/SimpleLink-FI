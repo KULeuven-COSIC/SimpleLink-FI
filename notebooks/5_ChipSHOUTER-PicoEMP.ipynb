{
 "cells": [
  {
   "cell_type": "markdown",
   "metadata": {},
   "source": [
    "# Electromagnetic Fault Injection using the ChipSHOUTER PicoEMP\n",
    "\n",
    "In this notebook we provide a basic example of how you can use the open-source [ChipSHOUTER PicoEMP EMFI](https://github.com/newaetech/chipshouter-picoemp) tool to inject faults in a LAUNCHXL-CC26x2R1 development board.\n",
    "\n",
    "Note that most of the provided notebooks used the LAUNCHXL-CC2640R2 development board instead. The reason is simple, we seemed to get a higher success rate with our specific build of the PicoEMP and [injection tip](https://github.com/newaetech/chipshouter-picoemp/tree/main/hardware/injection_tips) on the LAUNCHXL-CC26x2R1, your mileage may vary.\n",
    "\n",
    "In this notebook we will automate FI attempts by controlling the PicoEMP using a ChipWhisperer. This allows us to precisely time the offset in time (from a trigger signal) when to inject the EM pulse. Safety was one of the main design considerations for the ChipSHOUTER PicoEMP, but connecting your ChipWhisperer to your own homemade PicoEMP is not without risk. Tread carefully.\n",
    "\n",
    "Alternatively you can also try to inject faults by pressing the PicoEMP buttons manually, by using the fast_trigger mode or by modifying the Raspberry Pi Pico firmware to allow for a configurable delay.\n"
   ]
  },
  {
   "cell_type": "markdown",
   "metadata": {},
   "source": [
    "## Hardware Setup\n",
    "\n",
    "One of the main advantages of EMFI is that you do not have to modify the target development board!\n",
    "To run this notebook you will need a ChipWhisperer, your ChipSHOUTER PicoEMP and a target development board.\n",
    "\n",
    "* Remove the 3V3 jumper and connect the target side pin to the ChipWhisperer's 3V3 output\n",
    "* Remove the RESET jumper and connect the target side to the ChipWhisperer's NRST output\n",
    "* Connect the ChipWhisperer's IO4/TRG to the target's DIO6 pin\n",
    "* Connect the ChipWhisperer's ground to a ground pin on the target board\n",
    "\n",
    "* Connect the ChipWhisperer's IO3 to the PicoEMP's CHG pin\n",
    "* Connect the ChipWhisperer's HS2 to the PicoEMP's HVP pin\n",
    "* Connect the ChipWhisperer's GND pin to the PicoEMP's GND pin"
   ]
  },
  {
   "cell_type": "markdown",
   "metadata": {},
   "source": [
    "![PicoEMP setup](img/picoemp_resize.jpg)"
   ]
  },
  {
   "cell_type": "markdown",
   "metadata": {},
   "source": [
    "## Preparation\n",
    "\n",
    "The following cells load the required libraries and initialise the ChipWhisperer as well as our target."
   ]
  },
  {
   "cell_type": "code",
   "execution_count": 1,
   "metadata": {},
   "outputs": [],
   "source": [
    "import sys\n",
    "import time\n",
    "import os\n",
    "import numpy as np\n",
    "import chipwhisperer as cw\n",
    "from tqdm.notebook import tqdm\n",
    "import serial\n",
    "import matplotlib.pyplot as plt\n",
    "\n",
    "ser = 0"
   ]
  },
  {
   "cell_type": "code",
   "execution_count": 2,
   "metadata": {},
   "outputs": [],
   "source": [
    "# Connect to the ChipWhisperer and perform some basic initialization\n",
    "\n",
    "scope = cw.scope()\n",
    "\n",
    "scope.clock.clkgen_src = 'system' \n",
    "scope.clock.clkgen_freq = 200e6          # Main ChipWhisperer clock\n",
    "scope.clock.adc_mul = 0\n",
    "scope.trigger.triggers = 'tio4'          # Trigger on a rising edge of TIO4 (connected to DIO6)\n",
    "scope.adc.basic_mode = 'rising_edge'\n",
    "scope.io.target_pwr = True\n",
    "\n",
    "scope.glitch.enabled = True\n",
    "scope.glitch.clk_src = 'pll'\n",
    "#scope.clock.pll.update_fpga_vco(600e6)\n",
    "scope.glitch.output = 'enable_only'\n",
    "scope.glitch.trigger_src = 'ext_single'\n",
    "scope.io.glitch_hp = False\n",
    "scope.glitch.ext_offset = 300            # Glitch offset from the external trigger (in cycles of the main CW clock)"
   ]
  },
  {
   "cell_type": "code",
   "execution_count": 3,
   "metadata": {},
   "outputs": [
    {
     "name": "stdout",
     "output_type": "stream",
     "text": [
      "1\n"
     ]
    }
   ],
   "source": [
    "# For use with the ChipShouter Pico\n",
    "\n",
    "# Disable the glitch mosfet and route the glitch signal to hs2\n",
    "# Connect HS2 to the ChipShouter Pico HVP pin\n",
    "scope.io.glitch_lp = False  \n",
    "scope.io.hs2 = \"glitch\"\n",
    "scope.glitch.repeat = 100 # You might want to try different values for this parameter\n",
    "\n",
    "# Set tio3 to be an input\n",
    "# Connect tio3 to the CHG pin, this allows us to check if the ChipShouter is charged\n",
    "scope.io.tio3 = 'high_z'\n",
    "\n",
    "print(scope.io.tio_states[2])"
   ]
  },
  {
   "cell_type": "code",
   "execution_count": 4,
   "metadata": {},
   "outputs": [],
   "source": [
    "# Simple loop that blocks until the ChipShouter is charged\n",
    "def wait_for_hv():\n",
    "    while scope.io.tio_states[2] != 0:\n",
    "        time.sleep(0.1)"
   ]
  },
  {
   "cell_type": "markdown",
   "metadata": {},
   "source": [
    "## ChipShouter Pico"
   ]
  },
  {
   "cell_type": "code",
   "execution_count": 5,
   "metadata": {},
   "outputs": [],
   "source": [
    "# A very basic class to interact with the ChipShouter PicoEMP\n",
    "\n",
    "class ChipShouterPicoEMP:\n",
    "    def __init__(self, port='/dev/ttyACM1'):\n",
    "        self.pico = serial.Serial(port, 115200)\n",
    "        \n",
    "        self.pico.write(b'\\r\\n')\n",
    "        time.sleep(0.1)\n",
    "        ret = self.pico.read(self.pico.in_waiting)\n",
    "        \n",
    "        if b'PicoEMP Commands' in ret:\n",
    "            print('Connected to ChipSHOUTER PicoEMP!')\n",
    "        else:\n",
    "            raise OSError('Could not connect to ChipShouter PicoEMP :(')\n",
    "        \n",
    "\n",
    "    def disable_timeout(self):\n",
    "        self.pico.write(b'disable_timeout\\r\\n')\n",
    "        time.sleep(1)\n",
    "        assert b'Timeout disabled!' in self.pico.read(self.pico.in_waiting)\n",
    "\n",
    "        \n",
    "    def arm(self):\n",
    "        self.pico.write(b'arm\\r\\n')\n",
    "        time.sleep(1)\n",
    "        assert b'Device armed' in self.pico.read(self.pico.in_waiting)\n",
    "\n",
    "        \n",
    "    def disarm(self):\n",
    "        self.pico.write(b'disarm\\r\\n')\n",
    "        time.sleep(1)\n",
    "        assert b'Device disarmed!' in self.pico.read(self.pico.in_waiting)\n",
    "\n",
    "        \n",
    "    def external_hvp(self):\n",
    "        self.pico.write(b'external_hvp\\r\\n')\n",
    "        time.sleep(1)\n",
    "        assert b'External HVP mode active' in self.pico.read(self.pico.in_waiting)\n",
    "\n",
    "        \n",
    "    def print_status(self):\n",
    "        self.pico.write(b'status\\r\\n')\n",
    "        time.sleep(1)\n",
    "        print(self.pico.read(self.pico.in_waiting).decode('utf-8'))\n",
    "        \n",
    "    \n",
    "    def setup_external_control(self):\n",
    "        self.disable_timeout()\n",
    "        self.external_hvp()\n",
    "        self.print_status()"
   ]
  },
  {
   "cell_type": "code",
   "execution_count": 6,
   "metadata": {},
   "outputs": [
    {
     "name": "stdout",
     "output_type": "stream",
     "text": [
      "Connected to ChipSHOUTER PicoEMP!\n",
      "status\n",
      "Status:\n",
      "- Disarmed\n",
      "- Not charged\n",
      "- Timeout disabled\n",
      "- HVP external\n",
      "\n",
      "> \n",
      "\n"
     ]
    }
   ],
   "source": [
    "# Change the serial port if needed!\n",
    "pico = ChipShouterPicoEMP('/dev/ttyACM5')\n",
    "pico.setup_external_control()"
   ]
  },
  {
   "cell_type": "code",
   "execution_count": 7,
   "metadata": {},
   "outputs": [],
   "source": [
    "# Connect to the LAUNCHXL-CC26X2R1 UART\n",
    "# You may have to change the serial port ('/dev/ttyACM1')\n",
    "\n",
    "if ser:\n",
    "    ser.close()\n",
    "\n",
    "ser = serial.Serial('/dev/ttyACM1', 115200)"
   ]
  },
  {
   "cell_type": "code",
   "execution_count": 8,
   "metadata": {},
   "outputs": [
    {
     "name": "stdout",
     "output_type": "stream",
     "text": [
      "Target has been flashed!\n"
     ]
    }
   ],
   "source": [
    "# Modify the dslite_path variable to point to your installation of Uniflash\n",
    "# Running this cell will load the example target firmware\n",
    "# THIS WILL OVERWRITE THE FIRMWARE ON YOUR LAUNCHXL-CC26X2R1\n",
    "\n",
    "import subprocess\n",
    "from pathlib import Path\n",
    "\n",
    "home_dir = str(Path.home()) \n",
    "dslite_path = home_dir + '/ti/uniflash_7.0.0/dslite.sh'\n",
    "erase_cmd = dslite_path + ' --mode cc13xx-cc26xx-mass-erase -d XDS110'\n",
    "\n",
    "# Note that the following command is different compared to the previous notebooks\n",
    "flash_cmd = dslite_path + ' --config ./bin/CC2652R1F.ccxml --flash ./bin/VFI_SCA_CC2652R1.out' \n",
    "\n",
    "process = subprocess.Popen(erase_cmd.split(' '), stdout=subprocess.PIPE, stderr=subprocess.PIPE)\n",
    "output = process.communicate()\n",
    "\n",
    "if b'Device Unlocked' not in output[0]:\n",
    "    print('There was an error while trying to erase the microcontroller')\n",
    "    print(output)\n",
    "else:\n",
    "    scope.io.nrst = 'low'\n",
    "    scope.io.target_pwr = False\n",
    "    time.sleep(0.1)\n",
    "    scope.io.target_pwr = True\n",
    "    scope.io.nrst = 'high'\n",
    "    \n",
    "    process = subprocess.Popen(flash_cmd.split(' '), stdout=subprocess.PIPE, stderr=subprocess.PIPE)\n",
    "    output = process.communicate()\n",
    "    if b'Board Reset Complete' in output[0]:\n",
    "        print('Target has been flashed!')\n",
    "    else:\n",
    "        print('Error flashing target. Check your connections and try again.')"
   ]
  },
  {
   "cell_type": "code",
   "execution_count": 9,
   "metadata": {},
   "outputs": [],
   "source": [
    "# Simple function to reset the target microcontroller\n",
    "def reset_dut(delay=0.1):\n",
    "    scope.io.nrst = 'low'\n",
    "    scope.io.target_pwr = False\n",
    "    time.sleep(delay)\n",
    "    scope.io.target_pwr = True\n",
    "    scope.io.nrst = 'high'\n",
    "    time.sleep(0.05)\n",
    "    ser.flushInput()\n",
    "    ser.write(b'd') # To select the double loop function of the firmware\n",
    "    \n",
    "\n",
    "# A more thorough reset function that verifies that the target is alive again\n",
    "def thorough_reset_dut(delay=0.05): \n",
    "    reset_dut(delay)\n",
    "    \n",
    "    ser.flushInput()\n",
    "    ser.write(bytes([0xAA]))\n",
    "    time.sleep(0.1)\n",
    "    ret = ser.read(ser.in_waiting)\n",
    "\n",
    "    while int.from_bytes(ret, 'little') != 10000:\n",
    "        delay += 0.5\n",
    "        reset_dut(delay)\n",
    "        ser.write(bytes([0xAA]))\n",
    "        time.sleep(0.1)\n",
    "        ret = ser.read(ser.in_waiting)"
   ]
  },
  {
   "cell_type": "code",
   "execution_count": 10,
   "metadata": {},
   "outputs": [],
   "source": [
    "reset_dut()"
   ]
  },
  {
   "cell_type": "code",
   "execution_count": 11,
   "metadata": {},
   "outputs": [
    {
     "name": "stdout",
     "output_type": "stream",
     "text": [
      "b\"\\x10'\\x00\\x00\" 10000\n"
     ]
    }
   ],
   "source": [
    "ser.write(bytes([0xAA]))\n",
    "time.sleep(0.1)\n",
    "ret = ser.read(ser.in_waiting)\n",
    "print(ret, int.from_bytes(ret, 'little'))"
   ]
  },
  {
   "cell_type": "code",
   "execution_count": null,
   "metadata": {},
   "outputs": [],
   "source": []
  },
  {
   "cell_type": "markdown",
   "metadata": {},
   "source": [
    "## A basic experiment\n",
    "\n",
    "The following cell will control the ChipWhisperer and PicoEMP to inject EM pulses into the target.\n",
    "\n",
    "We assume the target crashed if it does not return any output. We successfully injected a glitch if the target replies with a counter value that is not equal to 10000, those values will be printed. In both cases we reset the target device.\n",
    "\n",
    "The main parameter you will have to tune is the PicoEMP positioning relative to the target. It can be tricky to find a good location, but once you hit the spot the success rate can be pretty high!\n",
    "\n",
    "Assuming you got this basic experiment to work and completed all of the other notebooks, you should be able to extend this notebook to try and bypass code readout protection using EMFI!"
   ]
  },
  {
   "cell_type": "code",
   "execution_count": 12,
   "metadata": {},
   "outputs": [
    {
     "data": {
      "application/vnd.jupyter.widget-view+json": {
       "model_id": "f87765e744414fb8973d106c9c7a9e0f",
       "version_major": 2,
       "version_minor": 0
      },
      "text/plain": [
       "  0%|          | 0/25 [00:00<?, ?it/s]"
      ]
     },
     "metadata": {},
     "output_type": "display_data"
    },
    {
     "name": "stdout",
     "output_type": "stream",
     "text": [
      "Fault?! 2506106555 bb266095 0\n",
      "\n",
      " 0 1\n",
      "....Fault?! 9999 0f270000 60\n",
      "Fault?! 9999 0f270000 60\n",
      "Fault?! 9999 0f270000 60\n",
      "Fault?! 9999 0f270000 80\n",
      ".Fault?! 9999 0f270000 80\n",
      ".Fault?! 536962703 8f660120 80\n",
      "..Fault?! 9998 0e270000 80\n",
      ".Fault?! 9999 0f270000 80\n",
      ".Fault?! 9999 0f270000 140\n",
      ".Fault?! 9999 0f270000 140\n",
      "Fault?! 9999 0f270000 140\n",
      "............Fault?! 9998 0e270000 280\n",
      "Fault?! 9999 0f270000 280\n",
      "Fault?! 536962700 8c660120 280\n",
      "Fault?! 536962700 8c660120 280\n",
      "Fault?! 9999 0f270000 280\n",
      "Fault?! 536962700 8c660120 280\n",
      "Fault?! 9995 0b270000 280\n",
      "Fault?! 9999 0f270000 280\n",
      "..Fault?! 9999 0f270000 340\n",
      ".Fault?! 9999 0f270000 340\n",
      "Fault?! 9999 0f270000 340\n",
      "......\n",
      " 32 23\n",
      "....Fault?! 9999 0f270000 460\n",
      "Fault?! 9999 0f270000 460\n",
      "Fault?! 9999 0f270000 460\n",
      ".Fault?! 9999 0f270000 480\n",
      "Fault?! 9999 0f270000 480\n",
      "Fault?! 9999 0f270000 480\n",
      ".....\n",
      "Total # attempts: 250\n",
      "Total # faults: 29 (11.600000%)\n",
      "Total # crashes: 42 (16.800000%)\n"
     ]
    }
   ],
   "source": [
    "scope.glitch.repeat = 35\n",
    "offsets = np.arange(0, 500, 20)\n",
    "repeats = 10\n",
    "crashes = 0\n",
    "faults = 0\n",
    "\n",
    "pico.arm()\n",
    "\n",
    "for offset in tqdm(range(len(offsets))):\n",
    "    scope.glitch.ext_offset = offsets[offset]\n",
    "    \n",
    "    for i in range(repeats):\n",
    "        wait_for_hv() # Wait for the ChipShouter to be charged\n",
    "        \n",
    "        scope.arm()\n",
    "        ser.write(bytes([0xAA]))\n",
    "        time.sleep(0.1)\n",
    "        ret = ser.read(ser.in_waiting)\n",
    "        \n",
    "        if ret != b\"\\x10'\\x00\\x00\":\n",
    "            if ret == b'':\n",
    "                crashes += 1\n",
    "                print('.', end = '')\n",
    "            else:\n",
    "                faults += 1\n",
    "                print('Fault?!', int.from_bytes(ret, 'little'), ret.hex(), offsets[offset])\n",
    "            \n",
    "            thorough_reset_dut() \n",
    "            \n",
    "    if offset % 20 == 0:\n",
    "        print('\\n', crashes, faults)\n",
    "                \n",
    "pico.disarm()\n",
    "\n",
    "total = len(offsets)*repeats\n",
    "print(\"\\nTotal # attempts:\", total) \n",
    "print(\"Total # faults: %d (%f%%)\" % (faults, (faults/total)*100))\n",
    "print(\"Total # crashes: %d (%f%%)\" % (crashes, (crashes/total)*100))"
   ]
  },
  {
   "cell_type": "code",
   "execution_count": null,
   "metadata": {},
   "outputs": [],
   "source": [
    "ser.close()\n",
    "scope.dis()\n",
    "pico.disarm()"
   ]
  }
 ],
 "metadata": {
  "kernelspec": {
   "display_name": "Python 3 (ipykernel)",
   "language": "python",
   "name": "python3"
  },
  "language_info": {
   "codemirror_mode": {
    "name": "ipython",
    "version": 3
   },
   "file_extension": ".py",
   "mimetype": "text/x-python",
   "name": "python",
   "nbconvert_exporter": "python",
   "pygments_lexer": "ipython3",
   "version": "3.10.1"
  }
 },
 "nbformat": 4,
 "nbformat_minor": 2
}
